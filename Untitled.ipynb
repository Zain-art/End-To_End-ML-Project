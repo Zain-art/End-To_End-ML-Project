{
 "cells": [
  {
   "cell_type": "code",
   "execution_count": 4,
   "id": "c175624f-6422-4cbe-a6c3-a19a290e6586",
   "metadata": {},
   "outputs": [
    {
     "name": "stdout",
     "output_type": "stream",
     "text": [
      "helow\n"
     ]
    }
   ],
   "source": [
    "print('helow')"
   ]
  },
  {
   "cell_type": "markdown",
   "id": "d564120a",
   "metadata": {},
   "source": []
  },
  {
   "cell_type": "code",
   "execution_count": 5,
   "id": "7b43c871",
   "metadata": {},
   "outputs": [],
   "source": [
    "# data cleaning and preprocessing"
   ]
  },
  {
   "cell_type": "markdown",
   "id": "28eb2497",
   "metadata": {},
   "source": []
  },
  {
   "cell_type": "markdown",
   "id": "0514f996",
   "metadata": {},
   "source": []
  },
  {
   "cell_type": "code",
   "execution_count": null,
   "id": "cabeb79c",
   "metadata": {},
   "outputs": [],
   "source": []
  },
  {
   "cell_type": "code",
   "execution_count": 6,
   "id": "9f23acce-c29b-411b-b59c-0bde8e4db91f",
   "metadata": {},
   "outputs": [],
   "source": [
    "import pandas as pd"
   ]
  },
  {
   "cell_type": "code",
   "execution_count": null,
   "id": "10e84d8c-6d93-46d1-b636-ff1ea8fbf81e",
   "metadata": {},
   "outputs": [],
   "source": []
  }
 ],
 "metadata": {
  "kernelspec": {
   "display_name": "venv1",
   "language": "python",
   "name": "python3"
  },
  "language_info": {
   "codemirror_mode": {
    "name": "ipython",
    "version": 3
   },
   "file_extension": ".py",
   "mimetype": "text/x-python",
   "name": "python",
   "nbconvert_exporter": "python",
   "pygments_lexer": "ipython3",
   "version": "3.12.2"
  }
 },
 "nbformat": 4,
 "nbformat_minor": 5
}
